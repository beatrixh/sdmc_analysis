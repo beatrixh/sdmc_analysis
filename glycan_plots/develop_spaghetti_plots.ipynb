{
 "cells": [
  {
   "cell_type": "code",
   "execution_count": 1,
   "id": "6725e956-f875-49b4-9b6a-3a7568850570",
   "metadata": {},
   "outputs": [],
   "source": [
    "import pandas as pd\n",
    "import numpy as np\n",
    "import matplotlib.pyplot as plt\n",
    "\n",
    "import os"
   ]
  },
  {
   "cell_type": "code",
   "execution_count": 54,
   "id": "f9934b92-d2e7-43b2-9c8a-29ef23f13752",
   "metadata": {},
   "outputs": [],
   "source": [
    "pd.options.mode.chained_assignment = None"
   ]
  },
  {
   "cell_type": "markdown",
   "id": "e53de1ca-5ff1-4bce-ad99-08c44bcfc9d2",
   "metadata": {},
   "source": [
    "Your summary table below is consistent with the G002 results.  So it makes me think maybe there’s something to this decline after vaccination.  I think it would be interesting to see if the magnitude drops over time as well.  I think it would be nice to see the trajectory for each participant over time by taking the average response across the 95 glycans after truncating at 100 and make spaghetti plots of the trajectories"
   ]
  },
  {
   "cell_type": "code",
   "execution_count": 58,
   "id": "3f0ae589-6dd0-4e58-9b1d-c00ed577b938",
   "metadata": {},
   "outputs": [
    {
     "name": "stderr",
     "output_type": "stream",
     "text": [
      "/tmp/ipykernel_30114/2149506372.py:2: DtypeWarning: Columns (2) have mixed types. Specify dtype option on import or set low_memory=False.\n",
      "  df_glycan_isotypes = pd.read_csv(filepath_isotypes, sep=\"\\t\")\n"
     ]
    }
   ],
   "source": [
    "filepath_isotypes = '/networks/cavd/VDCs/Schief/Schief_856-G002/SkinReactions/data/Glycan_array_Scripps/processed_data/DRAFT_CAVD_G002_Glycan_Microarray_data_processed_2024-10-16.txt'\n",
    "df_glycan_isotypes = pd.read_csv(filepath_isotypes, sep=\"\\t\")\n",
    "\n",
    "usecols = ['sample_id',\n",
    "           'isotype', \n",
    "           'ptid', \n",
    "           'study_week',\n",
    "           'spot_name', \n",
    "           'glycan_m_number', \n",
    "           'background_subtraced_mean_signal']\n",
    "\n",
    "df = df_glycan_isotypes[usecols]"
   ]
  },
  {
   "cell_type": "code",
   "execution_count": 59,
   "id": "75a09211-3f6f-4f2a-8633-4466a6569280",
   "metadata": {},
   "outputs": [],
   "source": [
    "df.sample_id = df.sample_id.astype(str)"
   ]
  },
  {
   "cell_type": "code",
   "execution_count": 60,
   "id": "30228620-10a4-477f-8094-2c26908441ea",
   "metadata": {},
   "outputs": [],
   "source": [
    "def centered_mean(x):\n",
    "    if len(x) >= 6:\n",
    "        return np.mean(np.sort(x)[1:-1])\n",
    "    else:\n",
    "        return np.mean(x)\n",
    "\n",
    "df['centered_mean'] = df.groupby(['isotype','sample_id','glycan_m_number'])[['background_subtraced_mean_signal']].transform(centered_mean)\n",
    "df = df.drop(columns='background_subtraced_mean_signal').drop_duplicates()"
   ]
  },
  {
   "cell_type": "code",
   "execution_count": null,
   "id": "bd8fe9d6-2cc4-4cf2-b16b-f97d62b18d0d",
   "metadata": {},
   "outputs": [],
   "source": [
    "df_truncated = df.loc[df.centered_mean > 100]\n",
    "\n",
    "avg_response = df_truncated.groupby(['ptid','isotype','study_week'])[['centered_mean']].mean().reset_index()\n",
    "avg_response['timept'] = avg_response.study_week.map({\n",
    "    'Wk 0':0,\n",
    "    'Wk 8':1,\n",
    "    'Wk 10':2\n",
    "})\n",
    "avg_response = avg_response.sort_values(by='timept')"
   ]
  },
  {
   "cell_type": "code",
   "execution_count": 1,
   "id": "bdeae2ab-a221-4e91-aa83-904631bcfe8a",
   "metadata": {},
   "outputs": [],
   "source": [
    "fig, ax = plt.subplots(nrows=1, ncols=3, figsize=(12,3), sharey=True)\n",
    "\n",
    "isotypes = ['IgG','IgE','IgM']\n",
    "for i in range(3):\n",
    "    iso = isotypes[i]\n",
    "    for ppt in avg_response.ptid.unique():\n",
    "        select = (avg_response.ptid==ppt) & (avg_response.isotype==iso)\n",
    "        ax[i].plot(avg_response.loc[select].study_week, avg_response.loc[select].centered_mean)\n",
    "    ax[i].set_title(f\"{iso}\")\n",
    "    ax[i].set_yscale(\"log\")\n",
    "    \n",
    "ax[0].set_ylabel(\"Centered mean of background-normalized\\nsignal, avgd over glycans\")\n",
    "\n",
    "txt=\"Discarded all data <= 100, then took average over remaining glycans per isotype/ppt/timept\"\n",
    "plt.figtext(0.5, -0.07, txt, wrap=True, horizontalalignment='center', fontsize=9)\n",
    "plt.suptitle(\"Discarding data <= 100\", y=1.03)\n",
    "plt.show()"
   ]
  },
  {
   "cell_type": "code",
   "execution_count": 135,
   "id": "e07ec47a-442c-40d6-9202-532fdad0af37",
   "metadata": {},
   "outputs": [],
   "source": [
    "df_floor = df.copy()\n",
    "df_floor.loc[df_floor.centered_mean < 100,'centered_mean'] = 100\n",
    "\n",
    "avg_response_floor = df_floor.groupby(['ptid','isotype','study_week'])[['centered_mean']].mean().reset_index()\n",
    "avg_response_floor['timept'] = avg_response_floor.study_week.map({\n",
    "    'Wk 0':0,\n",
    "    'Wk 8':1,\n",
    "    'Wk 10':2\n",
    "})\n",
    "avg_response_floor = avg_response_floor.sort_values(by='timept')"
   ]
  },
  {
   "cell_type": "code",
   "execution_count": 2,
   "id": "5b75bee5-f3dc-4f5e-95ae-f04b7074ecf7",
   "metadata": {},
   "outputs": [],
   "source": [
    "fig, ax = plt.subplots(nrows=1, ncols=3, figsize=(12,3), sharey=True)\n",
    "\n",
    "isotypes = ['IgG','IgE','IgM']\n",
    "for i in range(3):\n",
    "    iso = isotypes[i]\n",
    "    for ppt in avg_response_floor.ptid.unique():\n",
    "        select = (avg_response_floor.ptid==ppt) & (avg_response_floor.isotype==iso)\n",
    "        ax[i].plot(avg_response_floor.loc[select].study_week, avg_response_floor.loc[select].centered_mean)\n",
    "    ax[i].set_title(f\"{iso}\")\n",
    "    ax[i].set_yscale(\"log\", base=10)\n",
    "\n",
    "ax[0].set_ylabel(\"Centered mean of background-normalized\\nsignal, avgd over glycans\")\n",
    "\n",
    "txt=\"Floored all data at 100, then took average over glycans per isotype/ppt/timept.\"\n",
    "plt.figtext(0.5, -0.07, txt, wrap=True, horizontalalignment='center', fontsize=9)\n",
    "plt.suptitle(\"Floor at 100\", y=1.03)\n",
    "plt.show()"
   ]
  },
  {
   "cell_type": "code",
   "execution_count": 3,
   "id": "2123fc0a-5f80-4e89-a1d1-6c2a581113e0",
   "metadata": {},
   "outputs": [],
   "source": [
    "fig, ax = plt.subplots(nrows=1, ncols=3, figsize=(12,3))\n",
    "\n",
    "isotypes = ['IgG','IgE','IgM']\n",
    "for i in range(3):\n",
    "    iso = isotypes[i]\n",
    "    for ppt in avg_response_floor.ptid.unique():\n",
    "        select = (avg_response_floor.ptid==ppt) & (avg_response_floor.isotype==iso)\n",
    "        ax[i].plot(avg_response_floor.loc[select].study_week, avg_response_floor.loc[select].centered_mean)\n",
    "    ax[i].set_title(f\"{iso}\")\n",
    "    ax[i].set_yscale(\"log\", base=10)\n",
    "\n",
    "ax[0].set_ylabel(\"Centered mean of background-normalized\\nsignal, avgd over glycans\")\n",
    "\n",
    "txt=\"Floored all data at 100, then took average over glycans per isotype/ppt/timept.\"\n",
    "plt.figtext(0.5, -0.07, txt, wrap=True, horizontalalignment='center', fontsize=9)\n",
    "plt.suptitle(\"Floor at 100\", y=1.03)\n",
    "plt.show()"
   ]
  },
  {
   "cell_type": "code",
   "execution_count": 137,
   "id": "f4d40348-e7db-4f55-a185-9b434b50a4ab",
   "metadata": {},
   "outputs": [],
   "source": [
    "df_truncate_conditional = df_truncated[['isotype','ptid','spot_name']].drop_duplicates()\n",
    "df_truncate_conditional = df_truncate_conditional.merge(df, on=list(df_truncate_conditional.columns), how='left')\n",
    "\n",
    "avg_response_truncate_conditional = df_truncate_conditional.groupby(['ptid','isotype','study_week'])[['centered_mean']].mean().reset_index()\n",
    "avg_response_truncate_conditional['timept'] = avg_response_truncate_conditional.study_week.map({\n",
    "    'Wk 0':0,\n",
    "    'Wk 8':1,\n",
    "    'Wk 10':2\n",
    "})\n",
    "avg_response_truncate_conditional = avg_response_truncate_conditional.sort_values(by='timept')"
   ]
  },
  {
   "cell_type": "code",
   "execution_count": 4,
   "id": "7407c87c-3a91-4ef0-800e-29f8c39ccd77",
   "metadata": {},
   "outputs": [],
   "source": [
    "avg_response_truncate_conditional_A = avg_response_truncate_conditional.copy()\n",
    "avg_response_truncate_conditional_A.loc[avg_response_truncate_conditional_A.centered_mean <= 1, 'centered_mean'] = 1\n",
    "\n",
    "fig, ax = plt.subplots(nrows=1, ncols=3, figsize=(12,3), sharey=True)\n",
    "\n",
    "isotypes = ['IgG','IgE','IgM']\n",
    "for i in range(3):\n",
    "    iso = isotypes[i]\n",
    "    for ppt in avg_response_truncate_conditional_A.ptid.unique():\n",
    "        select = (avg_response_truncate_conditional_A.ptid==ppt) & (avg_response_truncate_conditional_A.isotype==iso)\n",
    "        ax[i].plot(avg_response_truncate_conditional_A.loc[select].study_week, avg_response_truncate_conditional_A.loc[select].centered_mean)\n",
    "    ax[i].set_title(f\"{iso}\")\n",
    "    ax[i].set_yscale(\"log\")\n",
    "\n",
    "ax[0].set_ylabel(\"Centered mean of background-normalized\\nsignal, avgd over glycans\")\n",
    "\n",
    "txt=\"Kept all timepts for any isotype/ppt/glycan that had at least one timept above 100, discarded the rest. Floored all data at 1 for the\\nsake of displaying on a log scale, then took the average over remaining glycans per isotype/ppt/timepoint\"\n",
    "plt.figtext(0.5, -0.08, txt, wrap=True, horizontalalignment='center', fontsize=9)\n",
    "plt.suptitle(\"Conditionally truncated A\", y=1.03)\n",
    "plt.show()"
   ]
  },
  {
   "cell_type": "code",
   "execution_count": 5,
   "id": "d8852532-4fdf-475d-8d42-cc308bcc26a9",
   "metadata": {},
   "outputs": [],
   "source": [
    "avg_response_truncate_conditional_A = avg_response_truncate_conditional.copy()\n",
    "avg_response_truncate_conditional_A.loc[avg_response_truncate_conditional_A.centered_mean <= 1, 'centered_mean'] = 1\n",
    "\n",
    "fig, ax = plt.subplots(nrows=1, ncols=3, figsize=(12,3))\n",
    "\n",
    "isotypes = ['IgG','IgE','IgM']\n",
    "for i in range(3):\n",
    "    iso = isotypes[i]\n",
    "    for ppt in avg_response_truncate_conditional_A.ptid.unique():\n",
    "        select = (avg_response_truncate_conditional_A.ptid==ppt) & (avg_response_truncate_conditional_A.isotype==iso)\n",
    "        ax[i].plot(avg_response_truncate_conditional_A.loc[select].study_week, avg_response_truncate_conditional_A.loc[select].centered_mean)\n",
    "        ax[i].scatter(avg_response_truncate_conditional_A.loc[select].study_week, avg_response_truncate_conditional_A.loc[select].centered_mean, s=6)\n",
    "    ax[i].set_title(f\"{iso}\")\n",
    "    ax[i].set_yscale(\"log\")\n",
    "\n",
    "ax[0].set_ylabel(\"Centered mean of background-normalized\\nsignal, avgd over glycans\")\n",
    "\n",
    "txt=\"Kept all timepts for any isotype/ppt/glycan that had at least one timept above 100, discarded the rest. Floored all data at 1 for the\\nsake of displaying on a log scale, then took the average over remaining glycans per isotype/ppt/timepoint\"\n",
    "plt.figtext(0.5, -0.08, txt, wrap=True, horizontalalignment='center', fontsize=9)\n",
    "plt.suptitle(\"Conditionally truncated A\", y=1.03)\n",
    "plt.show()"
   ]
  },
  {
   "cell_type": "code",
   "execution_count": 6,
   "id": "cdd71055-2dce-4dcc-ad3f-19da37c20549",
   "metadata": {},
   "outputs": [],
   "source": [
    "avg_response_truncate_conditional_B = avg_response_truncate_conditional.copy()\n",
    "avg_response_truncate_conditional_B.loc[avg_response_truncate_conditional_B.centered_mean <= 100, 'centered_mean'] = 100\n",
    "\n",
    "fig, ax = plt.subplots(nrows=1, ncols=3, figsize=(12,3), sharey=True)\n",
    "\n",
    "isotypes = ['IgG','IgE','IgM']\n",
    "for i in range(3):\n",
    "    iso = isotypes[i]\n",
    "    for ppt in avg_response_truncate_conditional_B.ptid.unique():\n",
    "        select = (avg_response_truncate_conditional_B.ptid==ppt) & (avg_response_truncate_conditional_B.isotype==iso)\n",
    "        ax[i].plot(avg_response_truncate_conditional_B.loc[select].study_week, avg_response_truncate_conditional_B.loc[select].centered_mean)\n",
    "    ax[i].set_title(f\"{iso}\")\n",
    "    ax[i].set_yscale(\"log\")\n",
    "\n",
    "ax[0].set_ylabel(\"Centered mean of background-normalized\\nsignal, avgd over glycans\")\n",
    "\n",
    "txt=\"Kept all timepts for any isotype/ppt/glycan that had at least one timept above 100, discarded the rest. Floored all data at 100,\\nthen took the average over remaining glycans per isotype/ppt/timepoint\"\n",
    "plt.figtext(0.5, -0.08, txt, wrap=True, horizontalalignment='center', fontsize=9)\n",
    "plt.suptitle(\"Conditionally truncated B\", y=1.03)\n",
    "plt.show()"
   ]
  },
  {
   "cell_type": "code",
   "execution_count": 7,
   "id": "91984cc6-31c6-48cc-9758-6273a35a495a",
   "metadata": {},
   "outputs": [],
   "source": [
    "avg_response_truncate_conditional_B = avg_response_truncate_conditional.copy()\n",
    "avg_response_truncate_conditional_B.loc[avg_response_truncate_conditional_B.centered_mean <= 100, 'centered_mean'] = 100\n",
    "\n",
    "fig, ax = plt.subplots(nrows=1, ncols=3, figsize=(12,3))\n",
    "\n",
    "isotypes = ['IgG','IgE','IgM']\n",
    "for i in range(3):\n",
    "    iso = isotypes[i]\n",
    "    for ppt in avg_response_truncate_conditional_B.ptid.unique():\n",
    "        select = (avg_response_truncate_conditional_B.ptid==ppt) & (avg_response_truncate_conditional_B.isotype==iso)\n",
    "        ax[i].plot(avg_response_truncate_conditional_B.loc[select].study_week, avg_response_truncate_conditional_B.loc[select].centered_mean)\n",
    "        ax[i].scatter(avg_response_truncate_conditional_B.loc[select].study_week, avg_response_truncate_conditional_B.loc[select].centered_mean, s=6)\n",
    "    ax[i].set_title(f\"{iso}\")\n",
    "    ax[i].set_yscale(\"log\")\n",
    "\n",
    "ax[0].set_ylabel(\"Centered mean of background-normalized\\nsignal, avgd over glycans\")\n",
    "\n",
    "txt=\"Kept all timepts for any isotype/ppt/glycan that had at least one timept above 100, discarded the rest. Floored all data at 100,\\nthen took the average over remaining glycans per isotype/ppt/timepoint\"\n",
    "plt.figtext(0.5, -0.08, txt, wrap=True, horizontalalignment='center', fontsize=9)\n",
    "plt.suptitle(\"Conditionally truncated B\")\n",
    "plt.tight_layout()\n",
    "plt.show()"
   ]
  },
  {
   "cell_type": "code",
   "execution_count": null,
   "id": "afcfe955-2dc1-4760-80ef-c69bb386d71f",
   "metadata": {},
   "outputs": [],
   "source": []
  }
 ],
 "metadata": {
  "kernelspec": {
   "display_name": "Python 3 (ipykernel)",
   "language": "python",
   "name": "python3"
  },
  "language_info": {
   "codemirror_mode": {
    "name": "ipython",
    "version": 3
   },
   "file_extension": ".py",
   "mimetype": "text/x-python",
   "name": "python",
   "nbconvert_exporter": "python",
   "pygments_lexer": "ipython3",
   "version": "3.10.13"
  }
 },
 "nbformat": 4,
 "nbformat_minor": 5
}
