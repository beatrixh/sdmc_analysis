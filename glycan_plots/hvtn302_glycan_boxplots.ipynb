{
 "cells": [
  {
   "cell_type": "code",
   "execution_count": 1,
   "id": "194f4b2c-045e-4f77-86a1-6b1b5a8c2fee",
   "metadata": {},
   "outputs": [],
   "source": [
    "import pandas as pd\n",
    "import numpy as np\n",
    "import matplotlib.pyplot as plt\n",
    "\n",
    "from PIL import Image\n",
    "import os\n",
    "\n",
    "import seaborn as sns\n",
    "\n",
    "pd.options.mode.chained_assignment = None"
   ]
  },
  {
   "cell_type": "code",
   "execution_count": 5,
   "id": "dbd8fb30-2cd3-477b-bcbc-0bb1e50aa4b3",
   "metadata": {},
   "outputs": [
    {
     "name": "stdout",
     "output_type": "stream",
     "text": [
      "\u001b[0m\u001b[00;32mHVTN302_Glycan_Data_Processed_2024-09-04.txt\u001b[0m*          \u001b[01;34marchive\u001b[0m/\n",
      "\u001b[00;32mHVTN302_glycan_microarray_sdmc_processing_notes.html\u001b[0m*\n"
     ]
    }
   ],
   "source": [
    "glycan = pd.read_csv(\"/trials/vaccine/p302/s001/qdata/LabData/AE_assays_pass-through/Glycan_array/processed_by_sdmc/HVTN302_Glycan_Data_Processed_2024-09-04.txt\", sep=\"\\t\")"
   ]
  },
  {
   "cell_type": "code",
   "execution_count": 58,
   "id": "f7a25e95-dc87-4d35-8ed4-1dea3f632667",
   "metadata": {},
   "outputs": [],
   "source": [
    "filepath_isotypes = \"/trials/vaccine/p302/s001/qdata/LabData/AE_assays_pass-through/Glycan_array/processed_by_sdmc/HVTN302_Glycan_Data_Processed_2024-09-04.txt\"\n",
    "df_glycan_isotypes = pd.read_csv(filepath_isotypes, sep=\"\\t\")"
   ]
  },
  {
   "cell_type": "code",
   "execution_count": 59,
   "id": "5f496145-f30b-4dae-b4d1-5aa9d283edea",
   "metadata": {},
   "outputs": [],
   "source": [
    "usecols = ['guspec',\n",
    "           'isotype', \n",
    "           'ptid', \n",
    "           'visitno',\n",
    "           'spot_name', \n",
    "           'glycan_m_number', \n",
    "           'background_subtraced_mean_signal']\n",
    "\n",
    "df = df_glycan_isotypes[usecols]"
   ]
  },
  {
   "cell_type": "code",
   "execution_count": 60,
   "id": "1a188353-735b-4111-a9fc-5aaa8bbc1413",
   "metadata": {},
   "outputs": [],
   "source": [
    "df.guspec = df.guspec.astype(str)"
   ]
  },
  {
   "cell_type": "code",
   "execution_count": 61,
   "id": "68ae8ab9-3021-47ad-a295-31c8553c0e34",
   "metadata": {},
   "outputs": [],
   "source": [
    "def centered_mean(x):\n",
    "    if len(x) >= 6:\n",
    "        return np.mean(np.sort(x)[1:-1])\n",
    "    else:\n",
    "        return np.mean(x)\n",
    "\n",
    "df['centered_mean'] = df.groupby(['isotype','guspec','glycan_m_number'])[['background_subtraced_mean_signal']].transform(centered_mean)\n",
    "df = df.drop(columns='background_subtraced_mean_signal').drop_duplicates()\n",
    "\n",
    "df = df.reset_index(drop=True)"
   ]
  },
  {
   "cell_type": "code",
   "execution_count": 151,
   "id": "e37ce038-7207-49ec-9288-60de71f0068f",
   "metadata": {},
   "outputs": [],
   "source": [
    "t = df.loc[(df.centered_mean > 100)].groupby(['isotype','visitno'])[['guspec']].count()"
   ]
  },
  {
   "cell_type": "code",
   "execution_count": 153,
   "id": "d311a5e1-483d-4609-b733-7ccd3155f0b7",
   "metadata": {},
   "outputs": [],
   "source": [
    "t.columns = ['responders_total']"
   ]
  },
  {
   "cell_type": "code",
   "execution_count": 83,
   "id": "70d91e15-c694-4a8b-a7b0-145f2faec1dc",
   "metadata": {},
   "outputs": [],
   "source": [
    "calc_responses = df.copy()\n",
    "calc_responses['threshold'] = 100\n",
    "calc_responses['response_flag'] = calc_responses.centered_mean > 100\n",
    "calc_responses[\"count_of_responses\"] = calc_responses.groupby(['isotype','visitno','glycan_m_number'])[['response_flag']].transform('sum')\n",
    "calc_responses[\"prop_of_responses\"] = calc_responses.groupby(['isotype','visitno','glycan_m_number'])[['response_flag']].transform(lambda x: x.sum()/len(x))\n",
    "\n",
    "calc_responses[\"overall_response_rate\"] = calc_responses.groupby(['isotype','glycan_m_number'])[['response_flag']].transform(lambda x: x.sum()/len(x))\n",
    "calc_responses = calc_responses.sort_values(by='overall_response_rate', ascending=False)"
   ]
  },
  {
   "cell_type": "code",
   "execution_count": 15,
   "id": "e79ef46f-08b1-4eff-a41b-a0eb93fab973",
   "metadata": {},
   "outputs": [],
   "source": [
    "savedir = '/networks/vtn/lab/SDMC_labscience/operations/documents/templates/assay/template_testing/hvtn_glycan_plots/'"
   ]
  },
  {
   "cell_type": "code",
   "execution_count": 24,
   "id": "b47c36ad-43de-4ddc-9a53-19721e9ce3c9",
   "metadata": {},
   "outputs": [
    {
     "data": {
      "text/plain": [
       "array([ 2.,  6.,  8., 10., 12.])"
      ]
     },
     "execution_count": 24,
     "metadata": {},
     "output_type": "execute_result"
    }
   ],
   "source": [
    "np.sort(calc_responses.visitno.unique())"
   ]
  },
  {
   "cell_type": "code",
   "execution_count": 26,
   "id": "de7a61de-e30a-4d0f-a15b-1451417c388f",
   "metadata": {},
   "outputs": [],
   "source": [
    "isotypes = ['IgE','IgM','IgG']\n",
    "useticks = {}\n",
    "useticks[\"IgG\"] = [100, 1_000, 10_000, 15_000]\n",
    "useticks[\"IgE\"] = [100, 1_000, 1_700]\n",
    "useticks[\"IgM\"] = [100, 1_000]\n",
    "\n",
    "ylim = {}\n",
    "ylim['IgG'] = (100, 15_000)\n",
    "ylim['IgE'] = (100, 1_700)\n",
    "ylim['IgM'] = (100, 1_000)"
   ]
  },
  {
   "cell_type": "code",
   "execution_count": 1,
   "id": "5e766452-4d58-4928-bf47-bf5054892016",
   "metadata": {},
   "outputs": [],
   "source": [
    "isotype = \"IgG\"\n",
    "glycan_ordering = calc_responses.loc[calc_responses.isotype==isotype,['glycan_m_number','overall_response_rate']].drop_duplicates().glycan_m_number.tolist()\n",
    "K = (calc_responses.loc[calc_responses.isotype==isotype].groupby(['isotype','glycan_m_number']).count_of_responses.max() > 3).sum()\n",
    "\n",
    "glycan_ordering = glycan_ordering[:K] # K = 34\n",
    "\n",
    "t = 0\n",
    "remaining_glycans = glycan_ordering\n",
    "while len(remaining_glycans)>0:\n",
    "    t += 1\n",
    "    N = 4\n",
    "    M = 3\n",
    "    visitnos = [2.,  6.,  8., 10., 12.]\n",
    "    \n",
    "    fig, ax = plt.subplots(nrows=N, ncols=M, figsize=(9,N*3.8), sharey=True)\n",
    "    for i in range(N):\n",
    "        for j in range(M):\n",
    "            k = i*M + j\n",
    "            if k < len(remaining_glycans):\n",
    "                glycan = remaining_glycans[k]\n",
    "            \n",
    "                g = calc_responses.loc[(calc_responses.glycan_m_number==glycan) & (calc_responses.isotype==isotype) & (calc_responses.centered_mean >= 100)]\n",
    "                data = [list(g.loc[(g.visitno==v)].centered_mean) for v in visitnos]\n",
    "                Ns = [str(len(i)) for i in data]\n",
    "                ax[i,j].boxplot(data)\n",
    "                ax[i,j].set_xticks(ticks=np.arange(1,6), labels=[f\"N={Ns[i]}\\nV{visitnos[i]}\" for i in range(5)])\n",
    "                ax[i,j].set_yscale(\"log\")\n",
    "                # ax[i,j].set_ylim(ylim[isotype])\n",
    "                ax[i,j].set_yticks(useticks[isotype])\n",
    "\n",
    "                if len(glycan) > 20:\n",
    "                    usethis = str(glycan.replace(' ','\\n'))\n",
    "                    ax[i,j].set_title(usethis, fontsize=10)\n",
    "                else:\n",
    "                    ax[i,j].set_title(f\"{glycan}\", fontsize=10)\n",
    "                if j==0:\n",
    "                    ax[i,j].set_ylabel(\"centered mean of\\nbackground-normalized signal\")\n",
    "    \n",
    "    fig.tight_layout()\n",
    "    plt.suptitle(f\"{isotype} - glycans w/ >=3 responders\", fontsize=14, y=1.005)\n",
    "    plt.savefig(savedir + f\"{isotype}_boxplots{t}_min3.png\", dpi=320, format='png', transparent=False, bbox_inches='tight', pad_inches=0.3)\n",
    "    remaining_glycans = remaining_glycans[N*M:]\n",
    "\n",
    "imgs = [f\"{isotype}_boxplots{i}_min3.png\" for i in np.arange(1,4)]\n",
    "\n",
    "images = [\n",
    "    Image.open(savedir + f)\n",
    "    for f in imgs\n",
    "]\n",
    "\n",
    "pdf_path = savedir + f\"{isotype}_glycan_boxplots_min3.pdf\"\n",
    "    \n",
    "images[0].save(\n",
    "    pdf_path, \"PDF\" ,resolution=100.0, save_all=True, append_images=images[1:]\n",
    ")"
   ]
  },
  {
   "cell_type": "code",
   "execution_count": 41,
   "id": "24eef438-c658-4cd7-a11d-7c3a9eaf6b80",
   "metadata": {},
   "outputs": [],
   "source": [
    "isotype = \"IgE\"\n",
    "glycan_ordering = calc_responses.loc[calc_responses.isotype==isotype,['glycan_m_number','overall_response_rate']].drop_duplicates().glycan_m_number.tolist()\n",
    "K = (calc_responses.loc[calc_responses.isotype==isotype].groupby(['isotype','glycan_m_number']).count_of_responses.max() > 3).sum()\n",
    "\n",
    "glycan_ordering = glycan_ordering[:K] # K = 34"
   ]
  },
  {
   "cell_type": "code",
   "execution_count": 2,
   "id": "e91f4023-0b37-40ce-9ea3-c34375258260",
   "metadata": {},
   "outputs": [],
   "source": [
    "t = 0\n",
    "remaining_glycans = glycan_ordering\n",
    "while len(remaining_glycans)>0:\n",
    "    t += 1\n",
    "    N = 4\n",
    "    M = 3\n",
    "    visitnos = [2.,  6.,  8., 10., 12.]\n",
    "    \n",
    "    fig, ax = plt.subplots(nrows=N, ncols=M, figsize=(9,N*4), sharey=True)\n",
    "    for i in range(N):\n",
    "        for j in range(M):\n",
    "            k = i*M + j\n",
    "            if k < len(remaining_glycans):\n",
    "                glycan = remaining_glycans[k]\n",
    "            \n",
    "                g = calc_responses.loc[(calc_responses.glycan_m_number==glycan) & (calc_responses.isotype==isotype) & (calc_responses.centered_mean >= 100)]\n",
    "                data = [list(g.loc[(g.visitno==v)].centered_mean) for v in visitnos]\n",
    "                Ns = [str(len(i)) for i in data]\n",
    "                ax[i,j].boxplot(data)\n",
    "                ax[i,j].set_xticks(ticks=np.arange(1,6), labels=[f\"N={Ns[i]}\\nV{visitnos[i]}\" for i in range(5)])\n",
    "                ax[i,j].set_yscale(\"log\")\n",
    "                # ax[i,j].set_ylim(ylim[isotype])\n",
    "                ax[i,j].set_yticks(useticks[isotype])\n",
    "\n",
    "                if len(glycan) > 20:\n",
    "                    usethis = str(glycan.replace(' ','\\n'))\n",
    "                    ax[i,j].set_title(usethis, fontsize=10)\n",
    "                else:\n",
    "                    ax[i,j].set_title(f\"{glycan}\", fontsize=10)\n",
    "                if j==0:\n",
    "                    ax[i,j].set_ylabel(\"centered mean of\\nbackground-normalized signal\")\n",
    "    \n",
    "    fig.tight_layout()\n",
    "    plt.suptitle(f\"{isotype} - glycans w/ >=3 responders\", fontsize=14, y=1.005)\n",
    "    plt.savefig(savedir + f\"{isotype}_boxplots{t}_min3.png\", dpi=320, format='png', transparent=False, bbox_inches='tight', pad_inches=0.3)\n",
    "    remaining_glycans = remaining_glycans[N*M:]"
   ]
  },
  {
   "cell_type": "code",
   "execution_count": 43,
   "id": "c78a3052-d518-4f06-b536-b1e0628132ef",
   "metadata": {},
   "outputs": [],
   "source": [
    "imgs = [f\"IgG_boxplots{i}_min3.png\" for i in np.arange(1,4)] + [f\"IgE_boxplots{i}_min3.png\" for i in np.arange(1,3)]"
   ]
  },
  {
   "cell_type": "code",
   "execution_count": 44,
   "id": "3c76ea93-5e15-453d-9ba8-74733ebe38e4",
   "metadata": {},
   "outputs": [],
   "source": [
    "images = [\n",
    "    Image.open(savedir + f)\n",
    "    for f in imgs\n",
    "]\n",
    "\n",
    "pdf_path = savedir + f\"hvtn_glycan_boxplots_min3.pdf\"\n",
    "    \n",
    "images[0].save(\n",
    "    pdf_path, \"PDF\" ,resolution=100.0, save_all=True, append_images=images[1:]\n",
    ")"
   ]
  },
  {
   "cell_type": "code",
   "execution_count": null,
   "id": "f485187e-0462-4e84-bf2b-3c4575c84786",
   "metadata": {},
   "outputs": [],
   "source": [
    "isotype = \"IgG\"\n",
    "glycan_ordering = calc_responses.loc[calc_responses.isotype==isotype,['glycan_m_number','overall_response_rate']].drop_duplicates().glycan_m_number.tolist()\n",
    "K = (calc_responses.loc[calc_responses.isotype==isotype].groupby(['isotype','glycan_m_number']).count_of_responses.max() > 3).sum()\n",
    "\n",
    "glycan_ordering = glycan_ordering[:K] # K = 34\n",
    "\n",
    "t = 0\n",
    "remaining_glycans = glycan_ordering\n",
    "while len(remaining_glycans)>0:\n",
    "    t += 1\n",
    "    N = 4\n",
    "    M = 3\n",
    "    visitnos = [2.,  6.,  8., 10., 12.]\n",
    "    \n",
    "    fig, ax = plt.subplots(nrows=N, ncols=M, figsize=(9,N*3.8), sharey=True)\n",
    "    for i in range(N):\n",
    "        for j in range(M):\n",
    "            k = i*M + j\n",
    "            if k < len(remaining_glycans):\n",
    "                glycan = remaining_glycans[k]\n",
    "            \n",
    "                g = calc_responses.loc[(calc_responses.glycan_m_number==glycan) & (calc_responses.isotype==isotype)]\n",
    "                data = [list(g.loc[(g.visitno==v)].centered_mean) for v in visitnos]\n",
    "                Ns = [str(len(i)) for i in data]\n",
    "                ax[i,j].boxplot(data)\n",
    "                ax[i,j].set_xticks(ticks=np.arange(1,6), labels=[f\"N={Ns[i]}\\nV{visitnos[i]}\" for i in range(5)])\n",
    "                ax[i,j].set_yscale(\"log\")\n",
    "                # ax[i,j].set_ylim(ylim[isotype])\n",
    "                # ax[i,j].set_yticks(useticks[isotype])\n",
    "\n",
    "                if len(glycan) > 20:\n",
    "                    usethis = str(glycan.replace(' ','\\n'))\n",
    "                    ax[i,j].set_title(usethis, fontsize=10)\n",
    "                else:\n",
    "                    ax[i,j].set_title(f\"{glycan}\", fontsize=10)\n",
    "                if j==0:\n",
    "                    ax[i,j].set_ylabel(\"centered mean of\\nbackground-normalized signal\")\n",
    "    \n",
    "    fig.tight_layout()\n",
    "    plt.suptitle(f\"{isotype} - glycans w/ >=3 responders - no truncation\", fontsize=14, y=1.005)\n",
    "    plt.savefig(savedir + f\"{isotype}_boxplots{t}_min3.png\", dpi=320, format='png', transparent=False, bbox_inches='tight', pad_inches=0.3)\n",
    "    remaining_glycans = remaining_glycans[N*M:]"
   ]
  },
  {
   "cell_type": "code",
   "execution_count": null,
   "id": "ab50f8d6-897e-485f-937f-79ab3f2368dd",
   "metadata": {},
   "outputs": [],
   "source": [
    "t = 0\n",
    "remaining_glycans = glycan_ordering\n",
    "while len(remaining_glycans)>0:\n",
    "    t += 1\n",
    "    N = 4\n",
    "    M = 3\n",
    "    visitnos = [2.,  6.,  8., 10., 12.]\n",
    "    \n",
    "    fig, ax = plt.subplots(nrows=N, ncols=M, figsize=(9,N*4), sharey=True)\n",
    "    for i in range(N):\n",
    "        for j in range(M):\n",
    "            k = i*M + j\n",
    "            if k < len(remaining_glycans):\n",
    "                glycan = remaining_glycans[k]\n",
    "            \n",
    "                g = calc_responses.loc[(calc_responses.glycan_m_number==glycan) & (calc_responses.isotype==isotype)]\n",
    "                data = [list(g.loc[(g.visitno==v)].centered_mean) for v in visitnos]\n",
    "                Ns = [str(len(i)) for i in data]\n",
    "                ax[i,j].boxplot(data)\n",
    "                ax[i,j].set_xticks(ticks=np.arange(1,6), labels=[f\"N={Ns[i]}\\nV{visitnos[i]}\" for i in range(5)])\n",
    "                ax[i,j].set_yscale(\"log\")\n",
    "                # ax[i,j].set_ylim(ylim[isotype])\n",
    "                # ax[i,j].set_yticks(useticks[isotype])\n",
    "\n",
    "                if len(glycan) > 20:\n",
    "                    usethis = str(glycan.replace(' ','\\n'))\n",
    "                    ax[i,j].set_title(usethis, fontsize=10)\n",
    "                else:\n",
    "                    ax[i,j].set_title(f\"{glycan}\", fontsize=10)\n",
    "                if j==0:\n",
    "                    ax[i,j].set_ylabel(\"centered mean of\\nbackground-normalized signal\")\n",
    "    \n",
    "    fig.tight_layout()\n",
    "    plt.suptitle(f\"{isotype} - glycans w/ >=3 responders, no truncation\", fontsize=14, y=1.005)\n",
    "    plt.savefig(savedir + f\"{isotype}_boxplots{t}_min3_no_truncation.png\", dpi=320, format='png', transparent=False, bbox_inches='tight', pad_inches=0.3)\n",
    "    remaining_glycans = remaining_glycans[N*M:]"
   ]
  }
 ],
 "metadata": {
  "kernelspec": {
   "display_name": "Python 3 (ipykernel)",
   "language": "python",
   "name": "python3"
  },
  "language_info": {
   "codemirror_mode": {
    "name": "ipython",
    "version": 3
   },
   "file_extension": ".py",
   "mimetype": "text/x-python",
   "name": "python",
   "nbconvert_exporter": "python",
   "pygments_lexer": "ipython3",
   "version": "3.10.13"
  }
 },
 "nbformat": 4,
 "nbformat_minor": 5
}
