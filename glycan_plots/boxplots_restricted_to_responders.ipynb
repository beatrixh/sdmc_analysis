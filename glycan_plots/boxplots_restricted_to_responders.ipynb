{
 "cells": [
  {
   "cell_type": "code",
   "execution_count": 1,
   "id": "ee5fd444-0d91-4214-823a-5ab5aeafbd1e",
   "metadata": {},
   "outputs": [],
   "source": [
    "import pandas as pd\n",
    "import numpy as np\n",
    "import matplotlib.pyplot as plt\n",
    "\n",
    "from PIL import Image\n",
    "import os\n",
    "\n",
    "import seaborn as sns"
   ]
  },
  {
   "cell_type": "code",
   "execution_count": 2,
   "id": "7d93e63c-87a9-497a-ade5-aa68e3a368c2",
   "metadata": {},
   "outputs": [],
   "source": [
    "pd.options.mode.chained_assignment = None"
   ]
  },
  {
   "cell_type": "code",
   "execution_count": 3,
   "id": "ea08481f-821a-4ef6-b83f-2ef424958f56",
   "metadata": {},
   "outputs": [
    {
     "name": "stderr",
     "output_type": "stream",
     "text": [
      "/tmp/ipykernel_44970/4284450680.py:2: DtypeWarning: Columns (2) have mixed types. Specify dtype option on import or set low_memory=False.\n",
      "  df_glycan_isotypes = pd.read_csv(filepath_isotypes, sep=\"\\t\")\n"
     ]
    }
   ],
   "source": [
    "filepath_isotypes = '/networks/cavd/VDCs/Schief/Schief_856-G002/SkinReactions/data/Glycan_array_Scripps/processed_data/DRAFT_CAVD_G002_Glycan_Microarray_data_processed_2024-10-16.txt'\n",
    "df_glycan_isotypes = pd.read_csv(filepath_isotypes, sep=\"\\t\")"
   ]
  },
  {
   "cell_type": "code",
   "execution_count": 4,
   "id": "e0ca2119-41fd-41d8-b469-6405426bc684",
   "metadata": {},
   "outputs": [],
   "source": [
    "usecols = ['sample_id',\n",
    "           'isotype', \n",
    "           'ptid', \n",
    "           'study_week',\n",
    "           'spot_name', \n",
    "           'glycan_m_number', \n",
    "           'background_subtraced_mean_signal']\n",
    "\n",
    "df = df_glycan_isotypes[usecols]"
   ]
  },
  {
   "cell_type": "code",
   "execution_count": 5,
   "id": "c4d07a15-c4cd-4e89-8538-0d97bdafb5f3",
   "metadata": {},
   "outputs": [],
   "source": [
    "df.sample_id = df.sample_id.astype(str)"
   ]
  },
  {
   "cell_type": "code",
   "execution_count": 6,
   "id": "e663b26d-4586-43cf-99d3-abccbd6c7aad",
   "metadata": {},
   "outputs": [],
   "source": [
    "def centered_mean(x):\n",
    "    if len(x) >= 6:\n",
    "        return np.mean(np.sort(x)[1:-1])\n",
    "    else:\n",
    "        return np.mean(x)\n",
    "\n",
    "df['centered_mean'] = df.groupby(['isotype','sample_id','glycan_m_number'])[['background_subtraced_mean_signal']].transform(centered_mean)\n",
    "        \n",
    "# df['normal_mean'] = df.groupby(['isotype','sample_id','glycan_m_number'])[['background_subtraced_mean_signal']].transform(\"mean\")\n",
    "# df['count_of_applicable'] = df.groupby(['isotype','sample_id','glycan_m_number'])[['background_subtraced_mean_signal']].transform(lambda x: len(x))\n",
    "# df['centered_mean'] = df.groupby(['isotype','sample_id','glycan_m_number'])[['background_subtraced_mean_signal']].transform(lambda x: np.mean(np.sort(x)[1:-1]))\n",
    "# df = df.drop(columns='background_subtraced_mean_signal').drop_duplicates()\n",
    "\n",
    "df = df.drop(columns='background_subtraced_mean_signal').drop_duplicates()\n",
    "\n",
    "df = df.reset_index(drop=True)\n",
    "\n",
    "calc_responses = df.copy()\n",
    "\n",
    "calc_responses['threshold'] = 100\n",
    "calc_responses['response_flag'] = calc_responses.centered_mean > 100\n",
    "calc_responses[\"count_of_responses\"] = calc_responses.groupby(['isotype','study_week','glycan_m_number'])[['response_flag']].transform('sum')\n",
    "calc_responses[\"prop_of_responses\"] = calc_responses.groupby(['isotype','study_week','glycan_m_number'])[['response_flag']].transform(lambda x: x.sum()/len(x))\n",
    "\n",
    "calc_responses[\"overall_response_rate\"] = calc_responses.groupby(['isotype','glycan_m_number'])[['response_flag']].transform(lambda x: x.sum()/len(x))\n",
    "calc_responses = calc_responses.sort_values(by='overall_response_rate', ascending=False)"
   ]
  },
  {
   "cell_type": "code",
   "execution_count": 81,
   "id": "15b9070d-8353-4db1-b790-709253a311af",
   "metadata": {},
   "outputs": [
    {
     "name": "stdout",
     "output_type": "stream",
     "text": [
      "0 - 589 Sp24\n",
      "1 - 387 Sp20\n",
      "2 - Yeast Mannan Sigma M-3640\n",
      "3 - 104 Sp8\n",
      "4 - Galactomannan DAVANT (160102) Pro-Pharmacenti\n",
      "5 - 105 Sp0\n",
      "6 - 395 Sp20\n",
      "7 - 397 Sp20\n",
      "8 - 508 Sp21\n",
      "9 - 394 Sp20\n",
      "10 - 517 Sp24\n",
      "11 - 495Sp21\n",
      "12 - 587 Sp24\n",
      "13 - 600 Sp24\n",
      "14 - 588 Sp24\n"
     ]
    }
   ],
   "source": [
    "savedir = '/networks/vtn/lab/SDMC_labscience/operations/documents/templates/assay/template_testing/plots_11_07_2024/'\n",
    "\n",
    "isotype=\"IgG\"\n",
    "glycan_ordering = calc_responses.loc[calc_responses.isotype==isotype,['glycan_m_number','overall_response_rate']].drop_duplicates().glycan_m_number.tolist()\n",
    "\n",
    "t = 0\n",
    "remaining_glycans = glycan_ordering\n",
    "while len(remaining_glycans)>0:\n",
    "    t += 1\n",
    "    N = 4\n",
    "    M = 5\n",
    "    weeks = [\"Wk 0\", \"Wk 8\", \"Wk 10\"]\n",
    "    \n",
    "    # fig, ax = plt.subplots(nrows=N, ncols=M, figsize=(9,N*2.5), sharex=True, sharey=True)\n",
    "    for i in range(N):\n",
    "        for j in range(M):\n",
    "            k = i*M + j\n",
    "            if k < len(remaining_glycans):\n",
    "                glycan = remaining_glycans[k]\n",
    "                g = calc_responses.loc[(calc_responses.glycan_m_number==glycan) & (calc_responses.isotype==isotype) & (calc_responses.centered_mean >= 100)]\n",
    "                data = [list(g.loc[(g.study_week==w)].centered_mean) for w in weeks]\n",
    "                if max([len(i) for i in data]) > 2:\n",
    "                    print(f\"{20*(t-1) + k} - {glycan}\")\n",
    "    remaining_glycans = remaining_glycans[20:]\n"
   ]
  },
  {
   "cell_type": "code",
   "execution_count": 77,
   "id": "4189f6c8-4901-49b2-ba85-d719556e60f4",
   "metadata": {},
   "outputs": [],
   "source": [
    "g = calc_responses.loc[(calc_responses.glycan_m_number==glycan) & (calc_responses.isotype==isotype) & (calc_responses.centered_mean >= 100)]\n",
    "data = [list(g.loc[(g.study_week==w)].centered_mean) for w in weeks]"
   ]
  },
  {
   "cell_type": "code",
   "execution_count": 78,
   "id": "26a50440-b830-4d3f-b46e-062016c56c58",
   "metadata": {},
   "outputs": [
    {
     "data": {
      "text/plain": [
       "[0, 0, 1]"
      ]
     },
     "execution_count": 78,
     "metadata": {},
     "output_type": "execute_result"
    }
   ],
   "source": [
    "[len(i) for i in data]"
   ]
  },
  {
   "cell_type": "code",
   "execution_count": null,
   "id": "c4582de3-e87c-40b6-8d38-b53b81c55fe7",
   "metadata": {},
   "outputs": [],
   "source": [
    "# >= 3\n",
    "# igg - 15\n",
    "# ige - 9\n",
    "# igm - 2\n",
    "\n",
    "# permissive\n",
    "# igg - 28\n",
    "# ige - 27\n",
    "# igm - 11"
   ]
  },
  {
   "cell_type": "code",
   "execution_count": 11,
   "id": "a07ef2ee-1524-4f76-bac7-186bdf8f245e",
   "metadata": {},
   "outputs": [],
   "source": [
    "savedir = '/networks/vtn/lab/SDMC_labscience/operations/documents/templates/assay/template_testing/plots_11_07_2024/'\n",
    "\n",
    "isotypes = ['IgE','IgM','IgG']\n",
    "useticks = {}\n",
    "useticks[\"IgG\"] = [100, 1_000, 10_000, 15_000]\n",
    "useticks[\"IgE\"] = [100, 1_000, 1_700]\n",
    "useticks[\"IgM\"] = [100, 1_000]\n",
    "\n",
    "ylim = {}\n",
    "ylim['IgG'] = (100, 15_000)\n",
    "ylim['IgE'] = (100, 1_700)\n",
    "ylim['IgM'] = (100, 1_000)"
   ]
  },
  {
   "cell_type": "code",
   "execution_count": 33,
   "id": "f347c715-fe5a-47cd-82f2-b76f6a9e6997",
   "metadata": {},
   "outputs": [
    {
     "data": {
      "text/plain": [
       "(31, 12)"
      ]
     },
     "execution_count": 33,
     "metadata": {},
     "output_type": "execute_result"
    }
   ],
   "source": [
    "g = calc_responses.loc[(calc_responses.glycan_m_number=='589 Sp24') & (calc_responses.isotype=='IgG') & (calc_responses.centered_mean >= 100)]\n",
    "g.loc[g.study_week==\"Wk 8\"].shape"
   ]
  },
  {
   "cell_type": "code",
   "execution_count": 34,
   "id": "f367f801-5ca3-4b68-9e65-d06ea1d22442",
   "metadata": {},
   "outputs": [],
   "source": [
    "data = [list(g.loc[(g.study_week==w)].centered_mean) for w in weeks]"
   ]
  },
  {
   "cell_type": "code",
   "execution_count": 123,
   "id": "f0c9b9bb-8d48-4d5b-ac4f-7672db8e8242",
   "metadata": {},
   "outputs": [
    {
     "data": {
      "text/plain": [
       "(9, 7.5)"
      ]
     },
     "execution_count": 123,
     "metadata": {},
     "output_type": "execute_result"
    }
   ],
   "source": [
    "9, 3*2.5"
   ]
  },
  {
   "cell_type": "code",
   "execution_count": 1,
   "id": "65f13f68-dd4e-49c5-8a2b-ee67e2188932",
   "metadata": {},
   "outputs": [],
   "source": [
    "isotype = \"IgG\"\n",
    "glycan_ordering = calc_responses.loc[calc_responses.isotype==isotype,['glycan_m_number','overall_response_rate']].drop_duplicates().glycan_m_number.tolist()\n",
    "glycan_ordering = glycan_ordering[:28]\n",
    "\n",
    "t = 0\n",
    "remaining_glycans = glycan_ordering\n",
    "while len(remaining_glycans)>0:\n",
    "    t += 1\n",
    "    N = 6\n",
    "    M = 5\n",
    "    weeks = [\"Wk 0\", \"Wk 8\", \"Wk 10\"]\n",
    "    \n",
    "    fig, ax = plt.subplots(nrows=N, ncols=M, figsize=(9,N*2.5), sharey=True)\n",
    "    for i in range(N):\n",
    "        for j in range(M):\n",
    "            k = i*M + j\n",
    "            if k < len(remaining_glycans):\n",
    "                glycan = remaining_glycans[k]\n",
    "            \n",
    "                g = calc_responses.loc[(calc_responses.glycan_m_number==glycan) & (calc_responses.isotype==isotype) & (calc_responses.centered_mean >= 100)]\n",
    "                data = [list(g.loc[(g.study_week==w)].centered_mean) for w in weeks]\n",
    "                Ns = [str(len(i)) for i in data]\n",
    "                ax[i,j].boxplot(data)\n",
    "                ax[i,j].set_xticks(ticks=np.arange(1,4), labels=[f\"N={Ns[i]}\\n{weeks[i]}\" for i in range(3)])\n",
    "                ax[i,j].set_yscale(\"log\")\n",
    "                ax[i,j].set_ylim(ylim[isotype])\n",
    "                ax[i,j].set_yticks(useticks[isotype])\n",
    "\n",
    "                if len(glycan) > 20:\n",
    "                    usethis = str(glycan.replace(' ','\\n'))\n",
    "                    ax[i,j].set_title(usethis, fontsize=10)\n",
    "                else:\n",
    "                    ax[i,j].set_title(f\"{glycan}\", fontsize=10)\n",
    "                if j==0:\n",
    "                    ax[i,j].set_ylabel(\"centered mean of\\nbackground-normalized signal\")\n",
    "    \n",
    "    fig.tight_layout()\n",
    "    plt.suptitle(f\"{isotype} - glycans w/ any responders\", fontsize=14, y=1.005)\n",
    "    plt.savefig(savedir + f\"{isotype}_boxplots{t}.png\", dpi=320, format='png', transparent=False, bbox_inches='tight', pad_inches=0.3)\n",
    "    remaining_glycans = remaining_glycans[28:]\n",
    "\n",
    "# imgs = [f\"{isotype}_boxplots{i}.png\" for i in np.arange(1,2)]\n",
    "\n",
    "# images = [\n",
    "#     Image.open(savedir + f)\n",
    "#     for f in imgs\n",
    "# ]\n",
    "\n",
    "# pdf_path = savedir + f\"{isotype}_glycan_boxplots_any.pdf\"\n",
    "    \n",
    "# images[0].save(\n",
    "#     pdf_path, \"PDF\" ,resolution=100.0, save_all=True, append_images=images[1:]\n",
    "# )"
   ]
  },
  {
   "cell_type": "code",
   "execution_count": 2,
   "id": "eaab2fde-b228-4ee6-a281-592a78637e1b",
   "metadata": {},
   "outputs": [],
   "source": [
    "isotype = \"IgG\"\n",
    "glycan_ordering = calc_responses.loc[calc_responses.isotype==isotype,['glycan_m_number','overall_response_rate']].drop_duplicates().glycan_m_number.tolist()\n",
    "glycan_ordering = glycan_ordering[:15]\n",
    "\n",
    "t = 0\n",
    "remaining_glycans = glycan_ordering\n",
    "while len(remaining_glycans)>0:\n",
    "    t += 1\n",
    "    N = 3\n",
    "    M = 5\n",
    "    weeks = [\"Wk 0\", \"Wk 8\", \"Wk 10\"]\n",
    "    \n",
    "    fig, ax = plt.subplots(nrows=N, ncols=M, figsize=(9,N*2.5), sharey=True)\n",
    "    for i in range(N):\n",
    "        for j in range(M):\n",
    "            k = i*M + j\n",
    "            if k < len(remaining_glycans):\n",
    "                glycan = remaining_glycans[k]\n",
    "            \n",
    "                g = calc_responses.loc[(calc_responses.glycan_m_number==glycan) & (calc_responses.isotype==isotype) & (calc_responses.centered_mean >= 100)]\n",
    "                data = [list(g.loc[(g.study_week==w)].centered_mean) for w in weeks]\n",
    "                Ns = [str(len(i)) for i in data]\n",
    "                ax[i,j].boxplot(data)\n",
    "                ax[i,j].set_xticks(ticks=np.arange(1,4), labels=[f\"N={Ns[i]}\\n{weeks[i]}\" for i in range(3)])\n",
    "                ax[i,j].set_yscale(\"log\")\n",
    "                ax[i,j].set_ylim(ylim[isotype])\n",
    "                ax[i,j].set_yticks(useticks[isotype])\n",
    "\n",
    "                if len(glycan) > 20:\n",
    "                    usethis = str(glycan.replace(' ','\\n'))\n",
    "                    ax[i,j].set_title(usethis, fontsize=10)\n",
    "                else:\n",
    "                    ax[i,j].set_title(f\"{glycan}\", fontsize=10)\n",
    "                if j==0:\n",
    "                    ax[i,j].set_ylabel(\"centered mean of\\nbackground-normalized signal\")\n",
    "    \n",
    "    fig.tight_layout()\n",
    "    plt.suptitle(f\"{isotype} - glycans w/ >=3 responders\", fontsize=14, y=1.005)\n",
    "    plt.savefig(savedir + f\"{isotype}_boxplots{t}_min3.png\", dpi=320, format='png', transparent=False, bbox_inches='tight', pad_inches=0.3)\n",
    "    remaining_glycans = remaining_glycans[15:]\n",
    "\n",
    "# plt.show()\n",
    "# imgs = [f\"{isotype}_boxplots{i}_min3.png\" for i in np.arange(1,2)]\n",
    "\n",
    "# images = [\n",
    "#     Image.open(savedir + f)\n",
    "#     for f in imgs\n",
    "# ]\n",
    "\n",
    "# pdf_path = savedir + f\"{isotype}_glycan_boxplots_min3.pdf\"\n",
    "    \n",
    "# images[0].save(\n",
    "#     pdf_path, \"PDF\" ,resolution=100.0, save_all=True, append_images=images[1:]\n",
    "# )"
   ]
  },
  {
   "cell_type": "code",
   "execution_count": 3,
   "id": "e960ca35-10ba-498b-9f80-5c737af245a5",
   "metadata": {},
   "outputs": [],
   "source": [
    "isotype = \"IgE\"\n",
    "glycan_ordering = calc_responses.loc[calc_responses.isotype==isotype,['glycan_m_number','overall_response_rate']].drop_duplicates().glycan_m_number.tolist()\n",
    "glycan_ordering = glycan_ordering[:27]\n",
    "\n",
    "t = 0\n",
    "remaining_glycans = glycan_ordering\n",
    "while len(remaining_glycans)>0:\n",
    "    t += 1\n",
    "    N = 6\n",
    "    M = 5\n",
    "    weeks = [\"Wk 0\", \"Wk 8\", \"Wk 10\"]\n",
    "    \n",
    "    fig, ax = plt.subplots(nrows=N, ncols=M, figsize=(9,N*2.7), sharey=True)\n",
    "    for i in range(N):\n",
    "        for j in range(M):\n",
    "            k = i*M + j\n",
    "            if k < len(remaining_glycans):\n",
    "                glycan = remaining_glycans[k]\n",
    "            \n",
    "                g = calc_responses.loc[(calc_responses.glycan_m_number==glycan) & (calc_responses.isotype==isotype) & (calc_responses.centered_mean >= 100)]\n",
    "                data = [list(g.loc[(g.study_week==w)].centered_mean) for w in weeks]\n",
    "                Ns = [str(len(i)) for i in data]\n",
    "                ax[i,j].boxplot(data)\n",
    "                ax[i,j].set_xticks(ticks=np.arange(1,4), labels=[f\"N={Ns[i]}\\n{weeks[i]}\" for i in range(3)])\n",
    "                ax[i,j].set_yscale(\"log\")\n",
    "                ax[i,j].set_ylim(ylim[isotype])\n",
    "                ax[i,j].set_yticks(useticks[isotype])\n",
    "\n",
    "                if len(glycan) > 20:\n",
    "                    usethis = str(glycan.replace(' ','\\n'))\n",
    "                    ax[i,j].set_title(usethis, fontsize=10)\n",
    "                else:\n",
    "                    ax[i,j].set_title(f\"{glycan}\", fontsize=10)\n",
    "                if j==0:\n",
    "                    ax[i,j].set_ylabel(\"centered mean of\\nbackground-normalized signal\")\n",
    "    \n",
    "    # ax[N-1,M-1].set_xticks(ticks=np.arange(1,4), labels=weeks)\n",
    "    fig.tight_layout()\n",
    "    plt.suptitle(f\"{isotype} - glycans w/ any responders\", fontsize=14, y=1.005)\n",
    "    plt.savefig(savedir + f\"{isotype}_boxplots{t}.png\", dpi=320, format='png', transparent=False, bbox_inches='tight', pad_inches=0.3)\n",
    "    remaining_glycans = remaining_glycans[28:]\n"
   ]
  },
  {
   "cell_type": "code",
   "execution_count": 4,
   "id": "7318dbe7-d9e6-4a5c-81a4-c1bdc58484f4",
   "metadata": {},
   "outputs": [],
   "source": [
    "isotype = \"IgE\"\n",
    "glycan_ordering = calc_responses.loc[calc_responses.isotype==isotype,['glycan_m_number','overall_response_rate']].drop_duplicates().glycan_m_number.tolist()\n",
    "glycan_ordering = glycan_ordering[:9]\n",
    "\n",
    "t = 0\n",
    "remaining_glycans = glycan_ordering\n",
    "while len(remaining_glycans)>0:\n",
    "    t += 1\n",
    "    N = 2\n",
    "    M = 5\n",
    "    weeks = [\"Wk 0\", \"Wk 8\", \"Wk 10\"]\n",
    "    \n",
    "    fig, ax = plt.subplots(nrows=N, ncols=M, figsize=(9,N*2.7), sharey=True)\n",
    "    for i in range(N):\n",
    "        for j in range(M):\n",
    "            k = i*M + j\n",
    "            if k < len(remaining_glycans):\n",
    "                glycan = remaining_glycans[k]\n",
    "            \n",
    "                g = calc_responses.loc[(calc_responses.glycan_m_number==glycan) & (calc_responses.isotype==isotype) & (calc_responses.centered_mean >= 100)]\n",
    "                data = [list(g.loc[(g.study_week==w)].centered_mean) for w in weeks]\n",
    "                Ns = [str(len(i)) for i in data]\n",
    "                ax[i,j].boxplot(data)\n",
    "                ax[i,j].set_xticks(ticks=np.arange(1,4), labels=[f\"N={Ns[i]}\\n{weeks[i]}\" for i in range(3)])\n",
    "                ax[i,j].set_yscale(\"log\")\n",
    "                ax[i,j].set_ylim(ylim[isotype])\n",
    "                ax[i,j].set_yticks(useticks[isotype])\n",
    "\n",
    "                if len(glycan) > 20:\n",
    "                    usethis = str(glycan.replace(' ','\\n'))\n",
    "                    ax[i,j].set_title(usethis, fontsize=10)\n",
    "                else:\n",
    "                    ax[i,j].set_title(f\"{glycan}\", fontsize=10)\n",
    "                if j==0:\n",
    "                    ax[i,j].set_ylabel(\"centered mean of\\nbackground-normalized signal\")\n",
    "    \n",
    "    # ax[N-1,M-1].set_xticks(ticks=np.arange(1,4), labels=weeks)\n",
    "    fig.tight_layout()\n",
    "    plt.suptitle(f\"{isotype} - glycans w/ >=3 responders\", fontsize=14, y=1.02)\n",
    "    plt.savefig(savedir + f\"{isotype}_boxplots{t}_min3.png\", dpi=320, format='png', transparent=False, bbox_inches='tight', pad_inches=0.3)\n",
    "    remaining_glycans = remaining_glycans[9:]\n",
    "\n",
    "\n",
    "# imgs = [f\"{isotype}_boxplots{i}_min3.png\" for i in np.arange(1,2)]\n",
    "\n",
    "# images = [\n",
    "#     Image.open(savedir + f)\n",
    "#     for f in imgs\n",
    "# ]\n",
    "\n",
    "# pdf_path = savedir + f\"{isotype}_glycan_boxplots_min3.pdf\"\n",
    "    \n",
    "# images[0].save(\n",
    "#     pdf_path, \"PDF\" ,resolution=100.0, save_all=True, append_images=images[1:]\n",
    "# )"
   ]
  },
  {
   "cell_type": "code",
   "execution_count": 5,
   "id": "d8ee5f75-384a-49d6-9c43-9886b78702fd",
   "metadata": {},
   "outputs": [],
   "source": [
    "isotype = \"IgM\"\n",
    "glycan_ordering = calc_responses.loc[calc_responses.isotype==isotype,['glycan_m_number','overall_response_rate']].drop_duplicates().glycan_m_number.tolist()\n",
    "glycan_ordering = glycan_ordering[:11]\n",
    "\n",
    "t = 0\n",
    "remaining_glycans = glycan_ordering\n",
    "while len(remaining_glycans)>0:\n",
    "    t += 1\n",
    "    N = 3\n",
    "    M = 5\n",
    "    weeks = [\"Wk 0\", \"Wk 8\", \"Wk 10\"]\n",
    "    \n",
    "    fig, ax = plt.subplots(nrows=N, ncols=M, figsize=(9,N*2.8), sharey=True)\n",
    "    for i in range(N):\n",
    "        for j in range(M):\n",
    "            k = i*M + j\n",
    "            if k < len(remaining_glycans):\n",
    "                glycan = remaining_glycans[k]\n",
    "            \n",
    "                g = calc_responses.loc[(calc_responses.glycan_m_number==glycan) & (calc_responses.isotype==isotype) & (calc_responses.centered_mean >= 100)]\n",
    "                data = [list(g.loc[(g.study_week==w)].centered_mean) for w in weeks]\n",
    "                Ns = [str(len(i)) for i in data]\n",
    "                ax[i,j].boxplot(data)\n",
    "                ax[i,j].set_xticks(ticks=np.arange(1,4), labels=[f\"N={Ns[i]}\\n{weeks[i]}\" for i in range(3)])\n",
    "                ax[i,j].set_yscale(\"log\")\n",
    "                ax[i,j].set_ylim(ylim[isotype])\n",
    "                ax[i,j].set_yticks(useticks[isotype])\n",
    "\n",
    "                if len(glycan) > 20:\n",
    "                    usethis = str(glycan.replace(' ','\\n'))\n",
    "                    ax[i,j].set_title(usethis, fontsize=10)\n",
    "                else:\n",
    "                    ax[i,j].set_title(f\"{glycan}\", fontsize=10)\n",
    "                if j==0:\n",
    "                    ax[i,j].set_ylabel(\"centered mean of\\nbackground-normalized signal\")\n",
    "    \n",
    "    # ax[N-1,M-1].set_xticks(ticks=np.arange(1,4), labels=weeks)\n",
    "    fig.tight_layout()\n",
    "    plt.suptitle(\"IgM - glycans w/ any responders\", fontsize=14, y=1.05)\n",
    "    plt.savefig(savedir + f\"{isotype}_boxplots{t}_any.png\", dpi=320, format='png', transparent=False, bbox_inches='tight', pad_inches=0.3)\n",
    "    remaining_glycans = remaining_glycans[12:]\n"
   ]
  },
  {
   "cell_type": "code",
   "execution_count": 8,
   "id": "a11e8cc6-9585-4fc0-9fd1-4235c674354e",
   "metadata": {},
   "outputs": [],
   "source": [
    "isotype = \"IgM\"\n",
    "glycan_ordering = calc_responses.loc[calc_responses.isotype==isotype,['glycan_m_number','overall_response_rate']].drop_duplicates().glycan_m_number.tolist()\n",
    "glycan_ordering = glycan_ordering[:2]\n",
    "\n",
    "\n",
    "t = 0\n",
    "remaining_glycans = glycan_ordering\n",
    "while len(remaining_glycans)>0:\n",
    "    t += 1\n",
    "    N = 1\n",
    "    M = 2\n",
    "    weeks = [\"Wk 0\", \"Wk 8\", \"Wk 10\"]\n",
    "    \n",
    "    fig, ax = plt.subplots(nrows=N, ncols=M, figsize=(6,N*3.5), sharey=True)\n",
    "    for i in range(N):\n",
    "        for j in range(M):\n",
    "            k = i*M + j\n",
    "            if k < len(remaining_glycans):\n",
    "                glycan = remaining_glycans[k]\n",
    "            \n",
    "                g = calc_responses.loc[(calc_responses.glycan_m_number==glycan) & (calc_responses.isotype==isotype) & (calc_responses.centered_mean >= 100)]\n",
    "                data = [list(g.loc[(g.study_week==w)].centered_mean) for w in weeks]\n",
    "                Ns = [str(len(i)) for i in data]\n",
    "                ax[j].boxplot(data)\n",
    "                ax[j].set_xticks(ticks=np.arange(1,4), labels=[f\"N={Ns[i]}\\n{weeks[i]}\" for i in range(3)])\n",
    "                ax[j].set_yscale(\"log\")\n",
    "                ax[j].set_ylim(ylim[isotype])\n",
    "                ax[j].set_yticks(useticks[isotype])\n",
    "\n",
    "                if len(glycan) > 20:\n",
    "                    usethis = str(glycan.replace(' ','\\n'))\n",
    "                    ax[j].set_title(usethis, fontsize=10)\n",
    "                else:\n",
    "                    ax[j].set_title(f\"{glycan}\", fontsize=10)\n",
    "                if j==0:\n",
    "                    ax[j].set_ylabel(\"centered mean of\\nbackground-normalized signal\")\n",
    "    \n",
    "    # ax[N-1,M-1].set_xticks(ticks=np.arange(1,4), labels=weeks)\n",
    "    fig.tight_layout()\n",
    "    plt.suptitle(f\"{isotype} - glycans w/ >=3 responders\", fontsize=14, y=1.05)\n",
    "    plt.savefig(savedir + f\"{isotype}_boxplots{t}_min3.png\", dpi=320, format='png', transparent=False, bbox_inches='tight', pad_inches=0.3)\n",
    "    remaining_glycans = remaining_glycans[12:]"
   ]
  },
  {
   "cell_type": "code",
   "execution_count": 92,
   "id": "cf76983b-68b4-40f9-a581-347bd1f120a2",
   "metadata": {},
   "outputs": [],
   "source": [
    "g = calc_responses.loc[(calc_responses.isotype==\"IgM\") & (calc_responses.centered_mean >= 100)]\n"
   ]
  },
  {
   "cell_type": "code",
   "execution_count": 137,
   "id": "f98b59e4-7d1e-4397-98a9-960a937a79c0",
   "metadata": {},
   "outputs": [],
   "source": [
    "imgs = [f\"{isotype}_boxplots1.png\" for isotype in [\"IgG\",\"IgE\",\"IgM\"]]\n",
    "\n",
    "images = [\n",
    "    Image.open(savedir + f)\n",
    "    for f in imgs\n",
    "]\n",
    "\n",
    "pdf_path = savedir + f\"glycan_boxplots_any.pdf\"\n",
    "\n",
    "images[0].save(\n",
    "    pdf_path, \"PDF\" ,resolution=100.0, save_all=True, append_images=images[1:]\n",
    ")"
   ]
  },
  {
   "cell_type": "code",
   "execution_count": 138,
   "id": "9aac4162-a022-4a4b-9cf0-61b37142c1f4",
   "metadata": {},
   "outputs": [],
   "source": [
    "imgs = [f\"{isotype}_boxplots1_min3.png\" for isotype in [\"IgG\",\"IgE\",\"IgM\"]]\n",
    "\n",
    "images = [\n",
    "    Image.open(savedir + f)\n",
    "    for f in imgs\n",
    "]\n",
    "\n",
    "pdf_path = savedir + f\"glycan_boxplots_min3.pdf\"\n",
    "\n",
    "images[0].save(\n",
    "    pdf_path, \"PDF\" ,resolution=100.0, save_all=True, append_images=images[1:]\n",
    ")"
   ]
  },
  {
   "cell_type": "code",
   "execution_count": null,
   "id": "47e2fcc1-2f3b-4b69-97c4-ed031c4f43be",
   "metadata": {},
   "outputs": [],
   "source": []
  }
 ],
 "metadata": {
  "kernelspec": {
   "display_name": "Python 3 (ipykernel)",
   "language": "python",
   "name": "python3"
  },
  "language_info": {
   "codemirror_mode": {
    "name": "ipython",
    "version": 3
   },
   "file_extension": ".py",
   "mimetype": "text/x-python",
   "name": "python",
   "nbconvert_exporter": "python",
   "pygments_lexer": "ipython3",
   "version": "3.10.13"
  }
 },
 "nbformat": 4,
 "nbformat_minor": 5
}
