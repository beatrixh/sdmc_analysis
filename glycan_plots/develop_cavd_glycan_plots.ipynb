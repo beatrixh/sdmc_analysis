{
 "cells": [
  {
   "cell_type": "code",
   "execution_count": 3,
   "id": "64ca204c-e2d3-40f0-b5eb-c00fecd17a56",
   "metadata": {},
   "outputs": [],
   "source": [
    "import pandas as pd\n",
    "import numpy as np\n",
    "import matplotlib.pyplot as plt\n",
    "\n",
    "from PIL import Image\n",
    "import os\n",
    "\n",
    "import seaborn as sns"
   ]
  },
  {
   "cell_type": "code",
   "execution_count": 4,
   "id": "50952d80-5ea2-4c8a-8011-578098e63178",
   "metadata": {},
   "outputs": [],
   "source": [
    "pd.options.mode.chained_assignment = None"
   ]
  },
  {
   "cell_type": "code",
   "execution_count": 5,
   "id": "05cff4f3-4deb-4559-9155-2e276b0fc259",
   "metadata": {},
   "outputs": [
    {
     "name": "stderr",
     "output_type": "stream",
     "text": [
      "/tmp/ipykernel_27893/4284450680.py:2: DtypeWarning: Columns (2) have mixed types. Specify dtype option on import or set low_memory=False.\n",
      "  df_glycan_isotypes = pd.read_csv(filepath_isotypes, sep=\"\\t\")\n"
     ]
    }
   ],
   "source": [
    "filepath_isotypes = '/networks/cavd/VDCs/Schief/Schief_856-G002/SkinReactions/data/Glycan_array_Scripps/processed_data/DRAFT_CAVD_G002_Glycan_Microarray_data_processed_2024-10-16.txt'\n",
    "df_glycan_isotypes = pd.read_csv(filepath_isotypes, sep=\"\\t\")"
   ]
  },
  {
   "cell_type": "code",
   "execution_count": 6,
   "id": "7b8a833c-74fa-4216-8b83-9333f8cf9147",
   "metadata": {},
   "outputs": [],
   "source": [
    "usecols = ['sample_id',\n",
    "           'isotype', \n",
    "           'ptid', \n",
    "           'study_week',\n",
    "           'spot_name', \n",
    "           'glycan_m_number', \n",
    "           'background_subtraced_mean_signal']\n",
    "\n",
    "df = df_glycan_isotypes[usecols]"
   ]
  },
  {
   "cell_type": "code",
   "execution_count": 7,
   "id": "411c2ac6-fab7-4ecc-aa68-0ec1688c586e",
   "metadata": {},
   "outputs": [],
   "source": [
    "df.sample_id = df.sample_id.astype(str)"
   ]
  },
  {
   "cell_type": "code",
   "execution_count": 8,
   "id": "1ef2af2b-ee99-4f42-a5e9-6afcb27d21de",
   "metadata": {},
   "outputs": [],
   "source": [
    "cc = df[['sample_id','ptid','study_week']].drop_duplicates()"
   ]
  },
  {
   "cell_type": "code",
   "execution_count": 9,
   "id": "0489257b-d0bf-4a44-80b1-f736e4d5fd22",
   "metadata": {},
   "outputs": [],
   "source": [
    "def centered_mean(x):\n",
    "    if len(x) >= 6:\n",
    "        return np.mean(np.sort(x)[1:-1])\n",
    "    else:\n",
    "        return np.mean(x)\n",
    "\n",
    "df['centered_mean'] = df.groupby(['isotype','sample_id','glycan_m_number'])[['background_subtraced_mean_signal']].transform(centered_mean)\n",
    "        \n",
    "# df['normal_mean'] = df.groupby(['isotype','sample_id','glycan_m_number'])[['background_subtraced_mean_signal']].transform(\"mean\")\n",
    "# df['count_of_applicable'] = df.groupby(['isotype','sample_id','glycan_m_number'])[['background_subtraced_mean_signal']].transform(lambda x: len(x))\n",
    "# df['centered_mean'] = df.groupby(['isotype','sample_id','glycan_m_number'])[['background_subtraced_mean_signal']].transform(lambda x: np.mean(np.sort(x)[1:-1]))\n",
    "# df = df.drop(columns='background_subtraced_mean_signal').drop_duplicates()\n",
    "\n",
    "df = df.drop(columns='background_subtraced_mean_signal').drop_duplicates()\n",
    "\n",
    "df = df.reset_index(drop=True)\n",
    "\n",
    "calc_responses = df.copy()\n",
    "\n",
    "calc_responses['threshold'] = 100\n",
    "calc_responses['response_flag'] = calc_responses.centered_mean > 100\n",
    "calc_responses[\"count_of_responses\"] = calc_responses.groupby(['isotype','study_week','glycan_m_number'])[['response_flag']].transform('sum')\n",
    "calc_responses[\"prop_of_responses\"] = calc_responses.groupby(['isotype','study_week','glycan_m_number'])[['response_flag']].transform(lambda x: x.sum()/len(x))\n",
    "\n",
    "calc_responses[\"overall_response_rate\"] = calc_responses.groupby(['isotype','glycan_m_number'])[['response_flag']].transform(lambda x: x.sum()/len(x))\n",
    "calc_responses = calc_responses.sort_values(by='overall_response_rate', ascending=False)"
   ]
  },
  {
   "cell_type": "code",
   "execution_count": 10,
   "id": "b77acd1b-cd65-430c-be01-bc4824ed9ef1",
   "metadata": {},
   "outputs": [],
   "source": [
    "# compare = pd.read_csv(\"/networks/vtn/lab/SDMC_labscience/operations/documents/templates/assay/template_testing/test_11_01_2024/\" + \"calc_responses.txt\", sep=\"\\t\")"
   ]
  },
  {
   "cell_type": "code",
   "execution_count": 83,
   "id": "c4668ce4-6f02-4598-971c-2c807306dbcd",
   "metadata": {},
   "outputs": [],
   "source": [
    "# calc_responses = calc_responses.reset_index(drop=True)\n",
    "\n",
    "# calc_responses.sample_id = calc_responses.sample_id.astype(str)\n",
    "# compare.sample_id = compare.sample_id.astype(str)\n",
    "\n",
    "# calc_responses.ptid = calc_responses.ptid.astype(str)\n",
    "# compare.ptid = compare.ptid.astype(str)\n",
    "\n",
    "# for col in ind_cols:\n",
    "#     diff = set(calc_responses[col]).symmetric_difference(compare[col])\n",
    "#     print(f\"{col}: {len(diff)}\")\n",
    "\n",
    "# for col in ['centered_mean','prop_of_responses','overall_response_rate']:\n",
    "#     calc_responses[col] = np.round(calc_responses[col], 2)\n",
    "\n",
    "# for col in ['centered_mean','prop_of_responses','overall_response_rate']:\n",
    "#     compare[col] = np.round(compare[col], 2)\n",
    "\n",
    "# calc_responses.compare(compare)"
   ]
  },
  {
   "cell_type": "markdown",
   "id": "68eeae96-fe26-425d-8a1d-d3712e74b881",
   "metadata": {},
   "source": [
    "# boxplots"
   ]
  },
  {
   "cell_type": "code",
   "execution_count": 1,
   "id": "ad90e38f-264f-43b5-80c7-d7688d5bb1c4",
   "metadata": {},
   "outputs": [],
   "source": [
    "calc_responses = calc_responses.sort_values(by='overall_response_rate', ascending=False)\n",
    "isotype = \"IgG\"\n",
    "\n",
    "glycan_ordering = calc_responses.loc[calc_responses.isotype==isotype,['glycan_m_number','overall_response_rate']].drop_duplicates().glycan_m_number.tolist()\n",
    "\n",
    "N = 4\n",
    "M = 5\n",
    "weeks = [\"Wk 0\", \"Wk 8\", \"Wk 10\"]\n",
    "\n",
    "fig, ax = plt.subplots(nrows=N, ncols=M, figsize=(9,N*2.5), sharex=True, sharey=True)\n",
    "for i in range(N):\n",
    "    for j in range(M):\n",
    "        k = i*M + j\n",
    "        if k < len(glycan_ordering):\n",
    "            glycan = glycan_ordering[k]\n",
    "            g = calc_responses.loc[(calc_responses.glycan_m_number==glycan) & (calc_responses.isotype==isotype)]\n",
    "            data = [list(g.loc[(g.study_week==w) & (g.centered_mean >= 100)].centered_mean) for w in weeks]\n",
    "            ax[i,j].boxplot(data)\n",
    "            ax[i,j].set_yscale(\"log\")\n",
    "            ax[i,j].set_ylim(ylim[isotype])\n",
    "            ax[i,j].set_yticks(useticks[isotype])\n",
    "\n",
    "            if len(glycan) > 20:\n",
    "                usethis = str(glycan.replace(' ','\\n'))\n",
    "                ax[i,j].set_title(usethis, fontsize=10)\n",
    "            else:\n",
    "                ax[i,j].set_title(f\"{glycan}\", fontsize=10)\n",
    "            if j==0:\n",
    "                ax[i,j].set_ylabel(\"centered mean of\\nbackground-normalized signal\")\n",
    "\n",
    "ax[N-1,M-1].set_xticks(ticks=np.arange(1,4), labels=weeks)\n",
    "fig.tight_layout()\n",
    "plt.show()\n"
   ]
  },
  {
   "cell_type": "code",
   "execution_count": 2,
   "id": "92d3ed80-8511-49a3-8df5-fc9cfbe36a5a",
   "metadata": {},
   "outputs": [],
   "source": [
    "savedir = '/networks/vtn/lab/SDMC_labscience/operations/documents/templates/assay/template_testing/plots_11_04_2024/'\n",
    "\n",
    "isotypes = ['IgE','IgM','IgG']\n",
    "useticks = {}\n",
    "useticks[\"IgG\"] = [100, 1_000, 10_000, 15_000]\n",
    "useticks[\"IgE\"] = [100, 1_000, 1_700]\n",
    "useticks[\"IgM\"] = [100, 1_000]\n",
    "\n",
    "ylim = {}\n",
    "ylim['IgG'] = (100, 15_000)\n",
    "ylim['IgE'] = (100, 1_700)\n",
    "ylim['IgM'] = (100, 1_000)\n",
    "\n",
    "for isotype in isotypes:\n",
    "    glycan_ordering = calc_responses.loc[calc_responses.isotype==isotype,['glycan_m_number','overall_response_rate']].drop_duplicates().glycan_m_number.tolist()\n",
    "    \n",
    "    t = 0\n",
    "    remaining_glycans = glycan_ordering\n",
    "    while len(remaining_glycans)>0:\n",
    "        t += 1\n",
    "        N = 4\n",
    "        M = 5\n",
    "        weeks = [\"Wk 0\", \"Wk 8\", \"Wk 10\"]\n",
    "        \n",
    "        fig, ax = plt.subplots(nrows=N, ncols=M, figsize=(9,N*2.5), sharex=True, sharey=True)\n",
    "        for i in range(N):\n",
    "            for j in range(M):\n",
    "                k = i*M + j\n",
    "                if k < len(remaining_glycans):\n",
    "                    glycan = remaining_glycans[k]\n",
    "                    g = calc_responses.loc[(calc_responses.glycan_m_number==glycan) & (calc_responses.isotype==isotype)]\n",
    "                    data = [list(g.loc[(g.study_week==w) & (g.centered_mean >= 100)].centered_mean) for w in weeks]\n",
    "                    ax[i,j].boxplot(data)\n",
    "                    ax[i,j].set_yscale(\"log\")\n",
    "                    ax[i,j].set_ylim(ylim[isotype])\n",
    "                    ax[i,j].set_yticks(useticks[isotype])\n",
    "\n",
    "                    if len(glycan) > 20:\n",
    "                        usethis = str(glycan.replace(' ','\\n'))\n",
    "                        ax[i,j].set_title(usethis, fontsize=10)\n",
    "                    else:\n",
    "                        ax[i,j].set_title(f\"{glycan}\", fontsize=10)\n",
    "                    if j==0:\n",
    "                        ax[i,j].set_ylabel(\"centered mean of\\nbackground-normalized signal\")\n",
    "        \n",
    "        ax[N-1,M-1].set_xticks(ticks=np.arange(1,4), labels=weeks)\n",
    "        fig.tight_layout()\n",
    "        plt.savefig(savedir + f\"{isotype}_boxplots{t}.png\", dpi=320, format='png', transparent=False, bbox_inches='tight', pad_inches=0.3)\n",
    "        remaining_glycans = remaining_glycans[20:]\n",
    "    \n",
    "    \n",
    "    imgs = [f\"{isotype}_boxplots{i}.png\" for i in np.arange(1,6)]\n",
    "    \n",
    "    images = [\n",
    "        Image.open(savedir + f)\n",
    "        for f in imgs\n",
    "    ]\n",
    "    \n",
    "    pdf_path = savedir + f\"{isotype}_glycan_boxplots.pdf\"\n",
    "        \n",
    "    images[0].save(\n",
    "        pdf_path, \"PDF\" ,resolution=100.0, save_all=True, append_images=images[1:]\n",
    "    )"
   ]
  },
  {
   "cell_type": "markdown",
   "id": "ec0e5b3b-a82c-436c-906a-c013503da852",
   "metadata": {},
   "source": [
    "# histograms"
   ]
  },
  {
   "cell_type": "code",
   "execution_count": 87,
   "id": "bd9854a1-a29b-4224-a6ea-4458e9f4d2d9",
   "metadata": {},
   "outputs": [],
   "source": [
    "response_stats = calc_responses[['isotype','study_week','glycan_m_number','count_of_responses','prop_of_responses']].drop_duplicates()"
   ]
  },
  {
   "cell_type": "code",
   "execution_count": 3,
   "id": "e35c9573-53a8-4d16-908a-fd2bd87cecff",
   "metadata": {},
   "outputs": [],
   "source": [
    "# plt.hist(response_stats.loc[(response_stats.isotype==\"IgG\") & (response_stats.study_week==\"Wk 0\")].count_of_responses)\n",
    "\n",
    "fig, ax = plt.subplots(nrows=3, ncols=3, figsize=(9,9), sharey=True)\n",
    "\n",
    "weeks = [\"Wk 0\", \"Wk 8\", \"Wk 10\"]\n",
    "isotypes = [\"IgG\", \"IgE\", \"IgM\"]\n",
    "for i in range(3):\n",
    "    for j in range(3):\n",
    "        week = weeks[j]\n",
    "        iso = isotypes[i]\n",
    "        ax[i,j].hist(response_stats.loc[(response_stats.isotype==iso) & (response_stats.study_week==week)].count_of_responses, bins='sqrt')\n",
    "        ax[i,j].set_title(f\"{iso}, {week}\")\n",
    "        if j==0:\n",
    "            ax[i,j].set_ylabel(\"Count of glycans\")\n",
    "        if i==2:\n",
    "            ax[i,j].set_xlabel(\"Count of ppts responders \")\n",
    "\n",
    "fig.tight_layout()\n",
    "fig.suptitle('Histogram: count of ppts who are responders\\nSignal threshold: 100', y=1.05, fontsize=14)\n",
    "plt.show()"
   ]
  },
  {
   "cell_type": "code",
   "execution_count": 4,
   "id": "0e081918-a888-4456-ad9f-5285abea1591",
   "metadata": {},
   "outputs": [],
   "source": [
    "# plt.hist(response_stats.loc[(response_stats.isotype==\"IgG\") & (response_stats.study_week==\"Wk 0\")].count_of_responses)\n",
    "\n",
    "fig, ax = plt.subplots(nrows=3, ncols=3, figsize=(9,9), sharey=True)\n",
    "\n",
    "weeks = [\"Wk 0\", \"Wk 8\", \"Wk 10\"]\n",
    "isotypes = [\"IgG\", \"IgE\", \"IgM\"]\n",
    "for i in range(3):\n",
    "    for j in range(3):\n",
    "        week = weeks[j]\n",
    "        iso = isotypes[i]\n",
    "        ax[i,j].hist(response_stats.loc[(response_stats.isotype==iso) & (response_stats.study_week==week)].prop_of_responses, bins='sqrt')\n",
    "        ax[i,j].set_title(f\"{iso}, {week}\")\n",
    "        if j==0:\n",
    "            ax[i,j].set_ylabel(\"Count of glycans\")\n",
    "        if i==2:\n",
    "            ax[i,j].set_xlabel(\"Prop of ppts responders \")\n",
    "\n",
    "\n",
    "\n",
    "fig.tight_layout()\n",
    "fig.suptitle('Histogram: prop of ppts who are responders\\nSignal threshold: 100', y=1.05, fontsize=14)\n",
    "plt.show()"
   ]
  },
  {
   "cell_type": "code",
   "execution_count": 3,
   "id": "8566c056-9de7-4353-a94a-9ffd6214b0ca",
   "metadata": {},
   "outputs": [],
   "source": [
    "## see cavd_glycan_concordance_10_22_2024 for concordance code"
   ]
  },
  {
   "cell_type": "markdown",
   "id": "62fc718e-1017-4d7e-ba65-db22186cb03b",
   "metadata": {},
   "source": [
    "# Concordance"
   ]
  },
  {
   "cell_type": "markdown",
   "id": "204e1bc8-432f-49d0-ac31-0b2420bee3cd",
   "metadata": {},
   "source": [
    "Would you make a few plots of the magnitudes of the responses relative to the estimated normal distribution based on the negative values.  It could be simply a boxplot of the magnitudes with a line showing the 3*SD cutoff.  Or maybe you can think of a better way.  Then put them all together in a 95 row by 3 column (glycan by time point) array in ordering the glycans by the response rate at week 0.  This would probably need to be split across a few pages to be able to see all of the results.\n",
    " \n",
    "Another thing to look for is any evidence of a vaccine induced response.  IgG is surprising because the fraction of glycans with zero responses goes up over time.  That suggests to me that we might need to consider computing the threshold separately by glycan and week.  I’m not quite sure how best to address the question of vaccine induced responses.  The histograms you generated suggest that there aren’t any.  You could look at concordance of the response calls across time (say week 0 vs. week 8 and week 0 vs. week 10) and concordance in magnitudes (same time point comparisons).\n",
    "\n",
    "---------------\n",
    "3)\tSome measure of concordance between weeks 0 and 8 and weeks 0 and 10.  For example, tables of response call concordance and/or pairwise plots would help us understand if responses are maintained over time or if they are changing.  Line plots might be another option.  "
   ]
  },
  {
   "cell_type": "code",
   "execution_count": 11,
   "id": "c1dd8bfa-0d19-4d4a-beca-93c47acafc9b",
   "metadata": {},
   "outputs": [],
   "source": [
    "from matplotlib.ticker import ScalarFormatter"
   ]
  },
  {
   "cell_type": "code",
   "execution_count": 12,
   "id": "97f17a04-f512-4882-a16e-7bd6e55a228c",
   "metadata": {},
   "outputs": [],
   "source": [
    "calc_responses = calc_responses.sort_values(by='overall_response_rate', ascending=False)"
   ]
  },
  {
   "cell_type": "code",
   "execution_count": 13,
   "id": "f034b584-5d85-464b-97e5-4d935b6df30b",
   "metadata": {},
   "outputs": [],
   "source": [
    "import scipy.stats as stats"
   ]
  },
  {
   "cell_type": "code",
   "execution_count": null,
   "id": "da62c94a-2a18-4418-9aa1-98d9e291e434",
   "metadata": {},
   "outputs": [],
   "source": []
  },
  {
   "cell_type": "code",
   "execution_count": 15,
   "id": "fd1bb9f8-be24-47dc-a6ea-203e1a0a135e",
   "metadata": {},
   "outputs": [
    {
     "data": {
      "text/plain": [
       "(42750, 5)"
      ]
     },
     "execution_count": 15,
     "metadata": {},
     "output_type": "execute_result"
    }
   ],
   "source": [
    "calc_responses[['sample_id','isotype','ptid','study_week','glycan_m_number']].drop_duplicates().shape"
   ]
  },
  {
   "cell_type": "code",
   "execution_count": null,
   "id": "b4450f14-42ec-465a-99f1-2f284c3f7726",
   "metadata": {},
   "outputs": [],
   "source": []
  },
  {
   "cell_type": "code",
   "execution_count": 16,
   "id": "898c2e21-2098-41f7-88a3-1c1412350d05",
   "metadata": {},
   "outputs": [],
   "source": [
    "byptid = pd.pivot_table(calc_responses, index=['isotype','ptid','glycan_m_number'], columns='study_week', values='centered_mean')"
   ]
  },
  {
   "cell_type": "code",
   "execution_count": 17,
   "id": "b034d55e-9823-40c6-b928-7f084caaf1ab",
   "metadata": {},
   "outputs": [],
   "source": [
    "byptid = byptid[['Wk 0', 'Wk 8', 'Wk 10']].reset_index()"
   ]
  },
  {
   "cell_type": "code",
   "execution_count": 106,
   "id": "5ed0c5e1-22d4-4a03-a82d-7ad25d882141",
   "metadata": {},
   "outputs": [],
   "source": [
    "def equalityline(x, y, **kwargs):\n",
    "    plt.plot([0, max(x)], [0, max(y)], linewidth=0.5, color='black')"
   ]
  },
  {
   "cell_type": "code",
   "execution_count": 5,
   "id": "f686160d-d66d-4008-99d3-0d897c09f001",
   "metadata": {},
   "outputs": [],
   "source": [
    "for isotype in ['IgG','IgE','IgM']:\n",
    "    igg_pairplot = sns.pairplot(byptid.loc[(byptid.isotype==isotype),['Wk 0','Wk 8','Wk 10']])\n",
    "    igg_pairplot.map_offdiag(equalityline)\n",
    "    igg_pairplot.fig.suptitle(f\"{isotype}; ptid/glycan-level mean signal comparison\", y=1.1)\n",
    "    igg_pairplot.savefig(savedir + f\"{isotype}_ptid_level_mean_signalcomparison.png\")\n",
    "\n",
    "\n",
    "imgs = [f\"{isotype}_ptid_level_mean_signalcomparison.png\" for isotype in ['IgG','IgE','IgM']]\n",
    "\n",
    "images = [\n",
    "    Image.open(savedir + f)\n",
    "    for f in imgs\n",
    "]\n",
    "\n",
    "pdf_path = savedir + \"mean_signal_pairplots.pdf\"\n",
    "    \n",
    "images[0].save(\n",
    "    pdf_path, \"PDF\" ,resolution=100.0, save_all=True, append_images=images[1:]\n",
    ")"
   ]
  },
  {
   "cell_type": "code",
   "execution_count": 112,
   "id": "1b9e7e34-87e1-489d-94f2-ad726e21be09",
   "metadata": {},
   "outputs": [],
   "source": [
    "byglycan = pd.pivot_table(calc_responses, index=['isotype','glycan_m_number'], columns='study_week', values='prop_of_responses')"
   ]
  },
  {
   "cell_type": "code",
   "execution_count": 115,
   "id": "82626372-ce31-4f60-a9de-60ea6ec5adc9",
   "metadata": {},
   "outputs": [],
   "source": [
    "byglycan = byglycan[['Wk 0','Wk 8', 'Wk 10']].reset_index()"
   ]
  },
  {
   "cell_type": "code",
   "execution_count": 6,
   "id": "de5cc089-5fea-4b08-a05c-00bd5d09588d",
   "metadata": {},
   "outputs": [],
   "source": [
    "for isotype in ['IgG','IgE','IgM']:\n",
    "    igg_pairplot = sns.pairplot(byglycan.loc[(byglycan.isotype==isotype),['Wk 0','Wk 8','Wk 10']])\n",
    "    igg_pairplot.map_offdiag(equalityline)\n",
    "    igg_pairplot.fig.suptitle(f\"{isotype}; glycan-level response rate comparison\", y=1.1)\n",
    "    igg_pairplot.savefig(savedir + f\"{isotype}_glycan_level_response_rate_pairplot.png\")\n",
    "\n",
    "\n",
    "imgs = [f\"{isotype}_glycan_level_response_rate_pairplot.png\" for isotype in ['IgG','IgE','IgM']]\n",
    "\n",
    "images = [\n",
    "    Image.open(savedir + f)\n",
    "    for f in imgs\n",
    "]\n",
    "\n",
    "pdf_path = savedir + \"response_rate_pairplots.pdf\"\n",
    "    \n",
    "images[0].save(\n",
    "    pdf_path, \"PDF\" ,resolution=100.0, save_all=True, append_images=images[1:]\n",
    ")"
   ]
  },
  {
   "attachments": {
    "0ded7115-2a05-4747-bc03-ac402458d4f8.png": {
     "image/png": "[encoded data removed]"
    }
   },
   "cell_type": "markdown",
   "id": "b5b34e80-422d-4b7a-b10b-6e84176ac7e0",
   "metadata": {},
   "source": [
    "![image.png](attachment:0ded7115-2a05-4747-bc03-ac402458d4f8.png)"
   ]
  },
  {
   "cell_type": "code",
   "execution_count": 21,
   "id": "1143d55b-fd4a-43e5-b666-90e09254d99c",
   "metadata": {},
   "outputs": [],
   "source": [
    "def concord(x,y):\n",
    "    rho = stats.pearsonr(x,y).statistic\n",
    "    sigma_x = np.var(x)\n",
    "    sigma_y = np.var(y)\n",
    "    mu_x = np.mean(x)\n",
    "    mu_y = np.mean(y)\n",
    "\n",
    "    return 2*rho*sigma_x*sigma_y/(sigma_x**2 + sigma_y**2 + (mu_x - mu_y)**2)\n",
    "\n",
    "\n",
    "def get_concord(isotype, glycan, wk):\n",
    "    g = byptid.loc[(byptid.isotype==isotype) & (byptid.glycan_m_number==glycan) & (byptid['Wk 0'].notna()) & (byptid[wk].notna())]\n",
    "    x = g['Wk 0']\n",
    "    y = g[wk]\n",
    "    return concord(x,y)"
   ]
  },
  {
   "cell_type": "code",
   "execution_count": 22,
   "id": "00cc02c2-6776-428b-b5e5-205b09e70659",
   "metadata": {},
   "outputs": [],
   "source": [
    "concordance_table = df[['isotype','spot_name','glycan_m_number']].drop_duplicates()"
   ]
  },
  {
   "cell_type": "code",
   "execution_count": 23,
   "id": "23899d0f-9c95-40a2-bb07-9d29e9407a2b",
   "metadata": {},
   "outputs": [],
   "source": [
    "concordance_table[\"Wk 0/Wk 8\"] = concordance_table.apply(lambda x: get_concord(x.isotype, x.glycan_m_number, 'Wk 8'), axis=1)\n",
    "concordance_table[\"Wk 0/Wk 10\"] = concordance_table.apply(lambda x: get_concord(x.isotype, x.glycan_m_number, 'Wk 10'), axis=1)"
   ]
  },
  {
   "cell_type": "code",
   "execution_count": 26,
   "id": "3d6d9763-8e9b-4308-bfec-4c8b1b8d83d9",
   "metadata": {},
   "outputs": [],
   "source": [
    "savedir = '/networks/vtn/lab/SDMC_labscience/operations/documents/templates/assay/template_testing/plots_11_04_2024/'"
   ]
  },
  {
   "cell_type": "code",
   "execution_count": 27,
   "id": "175cf99c-cc9c-44e0-a9b9-0bbaf094d200",
   "metadata": {},
   "outputs": [],
   "source": [
    "concordance_table.to_csv(savedir + \"concordance_table.csv\", index=False)"
   ]
  },
  {
   "cell_type": "code",
   "execution_count": null,
   "id": "ac588f40-0c94-4f66-bbde-75f1f7bcc239",
   "metadata": {},
   "outputs": [],
   "source": []
  },
  {
   "cell_type": "code",
   "execution_count": 174,
   "id": "ae85d6de-aeab-48d8-a67c-fcfacb80a233",
   "metadata": {},
   "outputs": [],
   "source": [
    "compare = pd.read_csv(\"/networks/vtn/lab/SDMC_labscience/operations/documents/templates/assay/template_testing/plots_10_22_2024_concordance/concordance_table.csv\")"
   ]
  },
  {
   "cell_type": "code",
   "execution_count": 175,
   "id": "25cc82c1-f484-44b7-b0cf-b52770b43b29",
   "metadata": {},
   "outputs": [],
   "source": [
    "ct = concordance_table.drop(columns='spot_name')"
   ]
  },
  {
   "cell_type": "code",
   "execution_count": 178,
   "id": "277eed47-ea39-45aa-b76d-8aab6e638b6a",
   "metadata": {},
   "outputs": [],
   "source": [
    "ct = ct.sort_values(by=['isotype','glycan_m_number'])\n",
    "compare = compare.sort_values(by=['isotype','glycan_m_number'])\n",
    "\n",
    "compare = compare.reset_index(drop=True)\n",
    "ct = ct.reset_index(drop=True)"
   ]
  },
  {
   "cell_type": "code",
   "execution_count": 179,
   "id": "69422863-9250-4d66-9cde-5eebe1dae856",
   "metadata": {},
   "outputs": [],
   "source": [
    "compare = compare[ct.columns]"
   ]
  },
  {
   "cell_type": "code",
   "execution_count": 181,
   "id": "5d6afb48-b780-4659-8d02-cc20c139ddc0",
   "metadata": {},
   "outputs": [],
   "source": [
    "w8 = ct.compare(compare)['Wk 0/Wk 8']"
   ]
  },
  {
   "cell_type": "code",
   "execution_count": null,
   "id": "376a17ae-411e-4bc5-91c3-9e28674e09c8",
   "metadata": {},
   "outputs": [],
   "source": []
  }
 ],
 "metadata": {
  "kernelspec": {
   "display_name": "Python 3 (ipykernel)",
   "language": "python",
   "name": "python3"
  },
  "language_info": {
   "codemirror_mode": {
    "name": "ipython",
    "version": 3
   },
   "file_extension": ".py",
   "mimetype": "text/x-python",
   "name": "python",
   "nbconvert_exporter": "python",
   "pygments_lexer": "ipython3",
   "version": "3.10.13"
  }
 },
 "nbformat": 4,
 "nbformat_minor": 5
}
